{
 "cells": [
  {
   "cell_type": "markdown",
   "id": "b1df03c4-0df9-4fa4-b494-a9266d6b8c88",
   "metadata": {},
   "source": [
    "# 📊 Tehran Rent Market Analysis (1403) – Data Cleaning\n",
    "\n",
    "## 🎯 Objective\n",
    "The goal of this notebook is to clean and normalize the raw rental listings data collected from Divar, covering more than **50,000 records** of rental and mortgage advertisements in Tehran (2024/2025).\n",
    "\n",
    "## 📂 Input\n",
    "- Raw CSV file of rental listings  \n",
    "  (columns include: neighborhood_slug, size (sqm), rent_value, credit_value, created_month, etc.)\n",
    "\n",
    "## 📄 Output\n",
    "- Cleaned and normalized DataFrame ready for analysis  \n",
    "- Saved as a new CSV file: `tehran_rent_cleaned.csv`\n",
    "\n",
    "## 🛠 Tools & Libraries\n",
    "- Python\n",
    "- Pandas\n",
    "- Numpy\n",
    "- Regular Expressions\n",
    "\n",
    "✅ In this step we remove missing or invalid records, change date format (from gregorian to jalali) and ensure numeric consistency in key columns such as size and prices.\n"
   ]
  },
  {
   "cell_type": "code",
   "execution_count": 506,
   "id": "22d89809",
   "metadata": {},
   "outputs": [],
   "source": [
    "import pandas as pd\n",
    "import numpy as np\n",
    "import seaborn as sb\n",
    "import matplotlib.pyplot as plt\n",
    "import re\n",
    "import jdatetime"
   ]
  },
  {
   "cell_type": "markdown",
   "id": "877461fb-bdd0-4d55-be20-cbbade76a556",
   "metadata": {},
   "source": [
    "## prepare file\n",
    "- read original file and get rental dataframe to work"
   ]
  },
  {
   "cell_type": "code",
   "execution_count": 507,
   "id": "84e50dae",
   "metadata": {},
   "outputs": [],
   "source": [
    "source_file=pd.read_csv(r\"C:\\Users\\arezoo\\Desktop\\divar_last_edit\\rent_data\\real_estate_ads_in_tehran.csv\",encoding='utf-8',low_memory=False)"
   ]
  },
  {
   "cell_type": "code",
   "execution_count": 508,
   "id": "67473a35",
   "metadata": {},
   "outputs": [],
   "source": [
    "source_file = source_file.drop_duplicates()"
   ]
  },
  {
   "cell_type": "code",
   "execution_count": 510,
   "id": "eb20c007",
   "metadata": {},
   "outputs": [],
   "source": [
    "rent_df=source_file[source_file[\"cat2_slug\"]==\"residential-rent\"].copy()"
   ]
  },
  {
   "cell_type": "markdown",
   "id": "98b0cd66-15d9-4cfa-a3b7-239cdccf0d13",
   "metadata": {},
   "source": [
    "## create date column\n",
    "- change gregorian_date to jalali_date\n",
    "- extract year- month and day"
   ]
  },
  {
   "cell_type": "code",
   "execution_count": 512,
   "id": "6ea77ae6",
   "metadata": {},
   "outputs": [],
   "source": [
    "rent_df[\"created_at_month\"]=pd.to_datetime(rent_df[\"created_at_month\"].astype(str))"
   ]
  },
  {
   "cell_type": "code",
   "execution_count": 513,
   "id": "368962c8",
   "metadata": {},
   "outputs": [],
   "source": [
    "def to_jalali(gregorian_date):\n",
    "    if pd.isnull(gregorian_date):\n",
    "        return None\n",
    "    return jdatetime.date.fromgregorian(date=gregorian_date).strftime('%Y-%m-%d')"
   ]
  },
  {
   "cell_type": "code",
   "execution_count": 514,
   "id": "3fe57795",
   "metadata": {},
   "outputs": [],
   "source": [
    "rent_df[\"jalali_date\"]=rent_df[\"created_at_month\"].apply(to_jalali)"
   ]
  },
  {
   "cell_type": "code",
   "execution_count": 515,
   "id": "ecec9e8b",
   "metadata": {},
   "outputs": [],
   "source": [
    "rent_df[['jalali_year', 'jalali_month', 'jalali_day']] = rent_df['jalali_date'].str.split('-', expand=True)"
   ]
  },
  {
   "cell_type": "code",
   "execution_count": 516,
   "id": "54da859f",
   "metadata": {},
   "outputs": [],
   "source": [
    "rent_df[\"jalali_year\"]=pd.to_numeric(rent_df[\"jalali_year\"],errors='coerce')"
   ]
  },
  {
   "cell_type": "code",
   "execution_count": 518,
   "id": "387a9b35",
   "metadata": {},
   "outputs": [],
   "source": [
    "rent_df[\"jalali_month\"]=rent_df[\"jalali_month\"].apply(lambda x:x[1] if x[0]==\"0\" else x)"
   ]
  },
  {
   "cell_type": "markdown",
   "id": "9e1ad581-6208-43c7-b3de-26838d0700f3",
   "metadata": {},
   "source": [
    "## Convert Persian Digits and Letters to English\n",
    "- normalize all numeric columns and textual identifiers to use English characters instead of Persian (Arabic) ones"
   ]
  },
  {
   "cell_type": "code",
   "execution_count": 519,
   "id": "e005dce9-4255-4806-a294-afdb767ebd6c",
   "metadata": {},
   "outputs": [],
   "source": [
    "def clean_row(value):\n",
    "    try:\n",
    "        value = str(value).strip().replace('‌', '').replace(' ', '')\n",
    "        translation_table = str.maketrans(\"۰۱۲۳۴۵۶۷۸۹\", \"0123456789\")\n",
    "        value = value.translate(translation_table)\n",
    "        return float(value)\n",
    "    except Exception as e:\n",
    "        return np.nan"
   ]
  },
  {
   "cell_type": "code",
   "execution_count": 520,
   "id": "6149db8c",
   "metadata": {},
   "outputs": [],
   "source": [
    "rent_df[\"construction_year\"]=rent_df[\"construction_year\"].apply(lambda x:\"1360\"if x==\"قبل از ۱۳۷۰\"else x)"
   ]
  },
  {
   "cell_type": "code",
   "execution_count": 521,
   "id": "bc82970b-cca8-4ab1-9e76-4ae836f801c1",
   "metadata": {},
   "outputs": [],
   "source": [
    "rent_df[\"construction_year\"]=rent_df[\"construction_year\"].apply(clean_row)"
   ]
  },
  {
   "cell_type": "code",
   "execution_count": 522,
   "id": "9ba35a81",
   "metadata": {},
   "outputs": [],
   "source": [
    "rent_df['rooms_count'] = rent_df['rooms_count'].astype(str).str.strip().replace(r'\\s+', '', regex=True)"
   ]
  },
  {
   "cell_type": "code",
   "execution_count": 523,
   "id": "2d2b81f5",
   "metadata": {},
   "outputs": [],
   "source": [
    "room_map = {\n",
    "    'بدوناتاق': 0,\n",
    "    'یک': 1,\n",
    "    'دو': 2,\n",
    "    'سه': 3,\n",
    "    'چهار': 4,\n",
    "    'پنج یا بیشتر': 5,\n",
    "}\n",
    "rent_df['rooms_count_num'] = rent_df['rooms_count'].astype(str).str.strip().map(room_map)"
   ]
  },
  {
   "cell_type": "code",
   "execution_count": 524,
   "id": "a3061ae3-b1c2-4fd2-b674-f89c12618ad8",
   "metadata": {},
   "outputs": [],
   "source": [
    "cols=[\"rooms_count_num\",\"construction_year\",\"jalali_month\",\"jalali_year\",\"jalali_day\",\"building_size\",\"rent_value\",\"credit_value\"]\n",
    "for col in cols:\n",
    "    rent_df.loc[:,col]=pd.to_numeric(rent_df.loc[:,col],errors='coerce')"
   ]
  },
  {
   "cell_type": "markdown",
   "id": "1310c32b-ec8f-4572-9e33-aebac9dd4d7d",
   "metadata": {},
   "source": [
    "## Add Derived Fields\n",
    "- create new derived fields to furture calculates.\n",
    "Adding this feature enables meaningful comparisons between listings and provides a single metric for clustering and analysis"
   ]
  },
  {
   "cell_type": "code",
   "execution_count": 525,
   "id": "939f3d06",
   "metadata": {},
   "outputs": [],
   "source": [
    "def is_fake_price(n):\n",
    "    try:\n",
    "        if pd.isna(n): return False\n",
    "        s = str(int(n))\n",
    "    except:\n",
    "        return True\n",
    "\n",
    "    # الگوهای تکراری مثل 111111111\n",
    "    if re.fullmatch(r'(\\d)\\1{6,}', s):  # حداقل 6 بار تکرار یک رقم\n",
    "        return True\n",
    "\n",
    "    # عددهای خیلی بزرگ غیرواقعی\n",
    "    if len(s) >= 12:\n",
    "        return True\n",
    "\n",
    "    return False"
   ]
  },
  {
   "cell_type": "code",
   "execution_count": 526,
   "id": "39407134",
   "metadata": {},
   "outputs": [],
   "source": [
    "rent_df.loc[:,\"fake_rent\"]=rent_df.loc[:,\"rent_value\"].apply(is_fake_price)\n",
    "rent_df.loc[:,\"fake_credit\"]=rent_df.loc[:,\"credit_value\"].apply(is_fake_price)"
   ]
  },
  {
   "cell_type": "code",
   "execution_count": 527,
   "id": "a3cfd355",
   "metadata": {},
   "outputs": [],
   "source": [
    "rent_df.loc[:,\"total_cost\"]=rent_df.loc[:,\"credit_value\"] + rent_df.loc[:,\"rent_value\"]/12"
   ]
  },
  {
   "cell_type": "code",
   "execution_count": 528,
   "id": "fe783819-6b5d-4c67-bba1-cfb6d22cfa72",
   "metadata": {},
   "outputs": [],
   "source": [
    "rent_df.loc[:,\"building_age\"]=rent_df.loc[:,\"jalali_year\"]-rent_df.loc[:,\"construction_year\"]\n",
    "rent_df.loc[:,'has_warehouse'] = rent_df.loc[:,'has_warehouse'].apply(\n",
    "    lambda x: 1 if str(x).strip().lower() == 'true' else 0\n",
    ")\n",
    "rent_df.loc[:,'has_parking'] = rent_df.loc[:,'has_parking'].apply(\n",
    "    lambda x: 1 if str(x).strip().lower() == 'true' else 0\n",
    ")"
   ]
  },
  {
   "cell_type": "code",
   "execution_count": 529,
   "id": "bd6af58d",
   "metadata": {},
   "outputs": [],
   "source": [
    "conditions = [\n",
    "    (rent_df[\"jalali_month\"].isin([1,2,3])),(rent_df[\"jalali_month\"].isin ([4,5,6])),\n",
    "    (rent_df[\"jalali_month\"].isin ([7,8,9])), (rent_df[\"jalali_month\"].isin ([10,11,12]))\n",
    "]\n",
    "\n",
    "choices = [\"spring\",\"summer\",\"autumn\",\"winter\"]\n",
    "rent_df.loc[:,\"season\"] = np.select(conditions, choices)"
   ]
  },
  {
   "cell_type": "code",
   "execution_count": 530,
   "id": "20e86898",
   "metadata": {},
   "outputs": [],
   "source": [
    "rent_df.loc[:,\"cost_per_sqm\"]=rent_df.loc[:,\"total_cost\"]/rent_df.loc[:,\"building_size\"]"
   ]
  },
  {
   "cell_type": "code",
   "execution_count": 531,
   "id": "a437b249",
   "metadata": {},
   "outputs": [],
   "source": [
    "cols=[\"rooms_count_num\",\"construction_year\",\"jalali_month\",\"jalali_year\",\"jalali_day\",\"total_cost\",\"building_size\",\"rent_value\",\"credit_value\"]\n",
    "for col in cols:\n",
    "    rent_df.loc[:,col]=pd.to_numeric(rent_df.loc[:,col],errors='coerce')"
   ]
  },
  {
   "cell_type": "markdown",
   "id": "54e1876d-4497-4c37-99ca-b0d8ecb68a23",
   "metadata": {},
   "source": [
    "## Filter Data Below 95th Percentile Threshold\n",
    "- remove extreme outliers by keeping only records where the value of a numeric column is below its **95th percentile**"
   ]
  },
  {
   "cell_type": "code",
   "execution_count": 532,
   "id": "01c0059c",
   "metadata": {},
   "outputs": [],
   "source": [
    "def calculate_high_cost_percentage(df, neighborhood_col, cost_col, percentile=95):\n",
    "    final_result = pd.DataFrame()  # تعریف اولیه\n",
    "\n",
    "    neighborhoods = df[neighborhood_col].unique()\n",
    "    \n",
    "    for n in neighborhoods:\n",
    "        subset = df[df[neighborhood_col] == n]\n",
    "        \n",
    "        if len(subset) == 0:\n",
    "            continue\n",
    "\n",
    "        # محاسبه آستانه پرت\n",
    "        threshold = subset[cost_col].quantile(percentile / 100)\n",
    "        \n",
    "        # فقط داده‌هایی که زیر آستانه هستن نگه می‌داریم\n",
    "        subset_filtered = subset[subset[cost_col] <= threshold]\n",
    "\n",
    "        # به نتیجه نهایی اضافه می‌کنیم\n",
    "        final_result = pd.concat([final_result, subset_filtered], ignore_index=True)\n",
    "\n",
    "    return final_result\n"
   ]
  },
  {
   "cell_type": "code",
   "execution_count": 533,
   "id": "cc112165",
   "metadata": {},
   "outputs": [],
   "source": [
    "rent_df=calculate_high_cost_percentage(rent_df,\"neighborhood_slug\",\"total_cost\",percentile=95)"
   ]
  },
  {
   "cell_type": "markdown",
   "id": "1c71a415-b554-4767-a7aa-125cd59de703",
   "metadata": {},
   "source": [
    "## Final Data Filtering: Valid Listings Only\n",
    "- apply a set of filters to keep only realistic and meaningful rental listings\n",
    "- enforce reasonable thresholds on key fields and exclude records marked as fake"
   ]
  },
  {
   "cell_type": "code",
   "execution_count": 534,
   "id": "99b3ad43",
   "metadata": {},
   "outputs": [],
   "source": [
    "rent_df = rent_df[\n",
    "    (rent_df[\"building_size\"] >= 30) &\n",
    "    (rent_df[\"building_size\"] <= 400) &\n",
    "    (rent_df[\"rent_value\"] < rent_df[\"credit_value\"] * 0.5) &\n",
    "    (~rent_df[\"fake_rent\"]) &\n",
    "    ((~rent_df[\"fake_credit\"]) & (rent_df[\"rent_value\"] >= 2_000_000))\n",
    "]"
   ]
  },
  {
   "cell_type": "code",
   "execution_count": 504,
   "id": "a197420d",
   "metadata": {},
   "outputs": [],
   "source": [
    "ads_count=rent_df[\"neighborhood_slug\"].value_counts()\n",
    "valid_neighborhoods =ads_count[ads_count>=10].index\n",
    "rent_df=rent_df[rent_df[\"neighborhood_slug\"].isin(valid_neighborhoods)]"
   ]
  },
  {
   "cell_type": "markdown",
   "id": "52f8cb0b-6b7b-453c-9a28-2284442a1a11",
   "metadata": {},
   "source": [
    "## Export Cleaned Data for Next Steps\n",
    "- save the cleaned and filtered dataset to a CSV file for reuse in the next stages of analysis"
   ]
  },
  {
   "cell_type": "code",
   "execution_count": 110,
   "id": "49fee2b2",
   "metadata": {},
   "outputs": [],
   "source": [
    "rent_df.to_csv(r\"C:\\Users\\a.zare.PM\\Desktop\\divar_last_edit\\rent_data\\data_to_check.csv\")"
   ]
  }
 ],
 "metadata": {
  "kernelspec": {
   "display_name": "Python 3 (ipykernel)",
   "language": "python",
   "name": "python3"
  },
  "language_info": {
   "codemirror_mode": {
    "name": "ipython",
    "version": 3
   },
   "file_extension": ".py",
   "mimetype": "text/x-python",
   "name": "python",
   "nbconvert_exporter": "python",
   "pygments_lexer": "ipython3",
   "version": "3.11.10"
  }
 },
 "nbformat": 4,
 "nbformat_minor": 5
}
